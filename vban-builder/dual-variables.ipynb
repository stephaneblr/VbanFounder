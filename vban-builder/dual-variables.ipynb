{
 "cells": [
  {
   "cell_type": "code",
   "execution_count": 363,
   "metadata": {},
   "outputs": [],
   "source": [
    "# Packages\n",
    "\n",
    "import time, datetime"
   ]
  },
  {
   "cell_type": "code",
   "execution_count": 364,
   "metadata": {},
   "outputs": [],
   "source": [
    "class Variable:\n",
    "    \n",
    "    def __init__(self, displayName, primaryObject, secondaryObject):\n",
    "        self.displayName = displayName\n",
    "        self.primary = primaryObject\n",
    "        self.secondary = secondaryObject\n",
    "        self.computed = Computed()\n",
    "        \n",
    "    def compute():\n",
    "        # to override\n",
    "        return None\n",
    "    \n",
    "    def __repr__(self):\n",
    "        \n",
    "        representation = \"------------------\\n\"\n",
    "        representation += self.displayName\n",
    "        representation += \"\\n------------------\\n\"\n",
    "        \n",
    "        representation += str(self.primary)\n",
    "        representation += str(self.secondary)\n",
    "        representation += str(self.computed)\n",
    "            \n",
    "        return representation\n",
    "     "
   ]
  },
  {
   "cell_type": "code",
   "execution_count": 365,
   "metadata": {},
   "outputs": [],
   "source": [
    "class BooleanVariable(Variable):\n",
    "    \n",
    "    def compute(self):\n",
    "        \n",
    "        # Compute value and valueRange\n",
    "        if self.secondary.varOBL :\n",
    "            self.computed.value = True\n",
    "        else : \n",
    "            if self.secondary.varAUT : \n",
    "                self.computed.valueRange = [True, False]\n",
    "            else : \n",
    "                self.computed.value = False\n",
    "        \n",
    "        # Compute the 'licit' argument\n",
    "        if self.primary.value is not None :\n",
    "            if self.computed.value is not None :\n",
    "                self.computed.licit = (self.primary.value == self.computed.value)\n",
    "            else :\n",
    "                if self.computed.valueRange is not None : \n",
    "                    self.computed.licit = (self.primary.value in self.computed.valueRange)\n",
    "        \n",
    "        # Add timestamp\n",
    "        self.computed.timestamp = datetime.datetime.fromtimestamp(time.time()).strftime('%Y-%m-%d %H:%M:%S')\n",
    "\n",
    "        return None"
   ]
  },
  {
   "cell_type": "code",
   "execution_count": 366,
   "metadata": {},
   "outputs": [],
   "source": [
    "class Computed():\n",
    "    \n",
    "    def __init__(self):\n",
    "        self.value = None\n",
    "        self.valueRange = None\n",
    "        self.licit = None\n",
    "        self.timestamp = None\n",
    "        \n",
    "    def __repr__(self):\n",
    "        \n",
    "        representation = \"\"\n",
    "        if self.timestamp is not None : \n",
    "            representation += \"COMPUTED [last compute : \"+ str(self.timestamp) +\"]:\\n\"\n",
    "            representation += \"\\t licit : \" + str(self.licit) + \"\\n\"\n",
    "            representation += \"\\t value = \" + str(self.value) + \"\\n\"\n",
    "            representation += \"\\t valueRange = \" + str(self.valueRange) + \"\\n\"\n",
    "            representation += \"\\n\"\n",
    "        else : \n",
    "            representation += \"COMPUTED :\\n\"\n",
    "            representation += \"\\t[Not computed yet]\\n\"\n",
    "        \n",
    "        return representation"
   ]
  },
  {
   "cell_type": "code",
   "execution_count": 367,
   "metadata": {},
   "outputs": [],
   "source": [
    "class Primary:\n",
    "    \n",
    "    def __init__(self, value=None, valueRange=[]):\n",
    "        self.value = value\n",
    "        if (type(valueRange) == list):\n",
    "            self.valueRange = valueRange\n",
    "        else : \n",
    "            print(\"Attribute valueRange must be a list\")\n",
    "            \n",
    "    def __repr__(self):\n",
    "        \n",
    "        representation = \"PRIMARY :\\n\"\n",
    "        representation += \"\\t value = \" + str(self.value) + \"\\n\"\n",
    "        representation += \"\\t valueRange = \" + str(self.valueRange) + \"\\n\"\n",
    "        representation += \"\\n\"\n",
    "        \n",
    "        return representation\n",
    "        "
   ]
  },
  {
   "cell_type": "code",
   "execution_count": 383,
   "metadata": {},
   "outputs": [],
   "source": [
    "class BooleanPrimary(Primary):\n",
    "    \n",
    "    def __init__(self, value = None):\n",
    "        self.value = value\n",
    "        if not (type(value) == bool):\n",
    "            print(\"Attribute value must be boolean\")\n",
    "        self.valueRange = [True, False]"
   ]
  },
  {
   "cell_type": "code",
   "execution_count": 1,
   "metadata": {},
   "outputs": [],
   "source": [
    "class Secondary(): pass"
   ]
  },
  {
   "cell_type": "code",
   "execution_count": 385,
   "metadata": {},
   "outputs": [],
   "source": [
    "class BooleanSecondary():\n",
    "    \n",
    "    def __init__(self, varOBL = False, varAUT = True):\n",
    "        self.varOBL = varOBL\n",
    "        self.varAUT = varAUT\n",
    "        \n",
    "    def __repr__(self):\n",
    "        representation = \"SECONDARY :\\n\"   \n",
    "        representation += \"\\t OBL : \" + str(self.varOBL) + \"\\n\"\n",
    "        representation += \"\\t AUT : \" + str(self.varAUT) + \"\\n\"\n",
    "        representation += \"\\n\"\n",
    "        \n",
    "        return representation\n",
    "        "
   ]
  },
  {
   "cell_type": "code",
   "execution_count": 386,
   "metadata": {},
   "outputs": [],
   "source": [
    "bp = BooleanPrimary(value = False)\n",
    "bs = BooleanSecondary(varAUT = True)"
   ]
  },
  {
   "cell_type": "code",
   "execution_count": 387,
   "metadata": {},
   "outputs": [
    {
     "data": {
      "text/plain": [
       "True"
      ]
     },
     "execution_count": 387,
     "metadata": {},
     "output_type": "execute_result"
    }
   ],
   "source": [
    "bs.varAUT"
   ]
  },
  {
   "cell_type": "code",
   "execution_count": 388,
   "metadata": {},
   "outputs": [],
   "source": [
    "construction_autorisee = BooleanVariable(displayName = \"La construction est-elle autorisée ?\", primaryObject = bp, secondaryObject = bs)\n",
    "\n",
    "\n",
    "\n",
    "\n"
   ]
  },
  {
   "cell_type": "code",
   "execution_count": 389,
   "metadata": {},
   "outputs": [
    {
     "data": {
      "text/plain": [
       "------------------\n",
       "La construction est-elle autorisée ?\n",
       "------------------\n",
       "PRIMARY :\n",
       "\t value = False\n",
       "\t valueRange = [True, False]\n",
       "\n",
       "SECONDARY :\n",
       "\t OBL : False\n",
       "\t AUT : True\n",
       "\n",
       "COMPUTED :\n",
       "\t[Not computed yet]"
      ]
     },
     "execution_count": 389,
     "metadata": {},
     "output_type": "execute_result"
    }
   ],
   "source": [
    "construction_autorisee"
   ]
  },
  {
   "cell_type": "code",
   "execution_count": 390,
   "metadata": {},
   "outputs": [],
   "source": [
    "construction_autorisee.compute()"
   ]
  },
  {
   "cell_type": "code",
   "execution_count": 391,
   "metadata": {},
   "outputs": [
    {
     "data": {
      "text/plain": [
       "------------------\n",
       "La construction est-elle autorisée ?\n",
       "------------------\n",
       "PRIMARY :\n",
       "\t value = False\n",
       "\t valueRange = [True, False]\n",
       "\n",
       "SECONDARY :\n",
       "\t OBL : False\n",
       "\t AUT : True\n",
       "\n",
       "COMPUTED [last compute : 2019-01-13 11:47:04]:\n",
       "\t licit : True\n",
       "\t value = None\n",
       "\t valueRange = [True, False]\n"
      ]
     },
     "execution_count": 391,
     "metadata": {},
     "output_type": "execute_result"
    }
   ],
   "source": [
    "construction_autorisee"
   ]
  }
 ],
 "metadata": {
  "kernelspec": {
   "display_name": "Python 3",
   "language": "python",
   "name": "python3"
  },
  "language_info": {
   "codemirror_mode": {
    "name": "ipython",
    "version": 3
   },
   "file_extension": ".py",
   "mimetype": "text/x-python",
   "name": "python",
   "nbconvert_exporter": "python",
   "pygments_lexer": "ipython3",
   "version": "3.7.0"
  }
 },
 "nbformat": 4,
 "nbformat_minor": 2
}
